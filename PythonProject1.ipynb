{
  "nbformat": 4,
  "nbformat_minor": 0,
  "metadata": {
    "colab": {
      "provenance": [],
      "authorship_tag": "ABX9TyP7CabdR62/y3ljAz5Wpijg",
      "include_colab_link": true
    },
    "kernelspec": {
      "name": "python3",
      "display_name": "Python 3"
    },
    "language_info": {
      "name": "python"
    }
  },
  "cells": [
    {
      "cell_type": "markdown",
      "metadata": {
        "id": "view-in-github",
        "colab_type": "text"
      },
      "source": [
        "<a href=\"https://colab.research.google.com/github/mpatel5/FoundationsOfDataScience/blob/main/PythonProject1.ipynb\" target=\"_parent\"><img src=\"https://colab.research.google.com/assets/colab-badge.svg\" alt=\"Open In Colab\"/></a>"
      ]
    },
    {
      "cell_type": "code",
      "execution_count": 2,
      "metadata": {
        "id": "Gn1G-pqIt2kN"
      },
      "outputs": [],
      "source": [
        "import pandas as pd\n",
        "import numpy as np\n",
        "import matplotlib.pyplot as plt\n",
        "import seaborn as sns"
      ]
    },
    {
      "cell_type": "code",
      "source": [
        "# Load dataset\n",
        "url = \"https://raw.githubusercontent.com/CunyLaguardiaDataAnalytics/datasets/master/2014-15_To_2016-17_School-_Level_NYC_Regents_Report_For_All_Variables.csv\"\n",
        "df = pd.read_csv(url)"
      ],
      "metadata": {
        "id": "Wa5pftfd8gt2"
      },
      "execution_count": 3,
      "outputs": []
    },
    {
      "cell_type": "code",
      "source": [
        "df.head()"
      ],
      "metadata": {
        "colab": {
          "base_uri": "https://localhost:8080/",
          "height": 504
        },
        "id": "q7VZLskROIMS",
        "outputId": "493c0aa1-1f48-476d-b614-3c44725ae481"
      },
      "execution_count": 51,
      "outputs": [
        {
          "output_type": "execute_result",
          "data": {
            "text/plain": [
              "  School DBN                     School Name School Level  \\\n",
              "0     01M034  P.S. 034 Franklin D. Roosevelt          K-8   \n",
              "1     01M034  P.S. 034 Franklin D. Roosevelt          K-8   \n",
              "2     01M034  P.S. 034 Franklin D. Roosevelt          K-8   \n",
              "3     01M140          P.S. 140 Nathan Straus          K-8   \n",
              "4     01M140          P.S. 140 Nathan Straus          K-8   \n",
              "\n",
              "          Regents Exam  Year  Total Tested Mean Score Number Scoring Below 65  \\\n",
              "0  Common Core Algebra  2017             4          s                       s   \n",
              "1   Living Environment  2015            16       77.9                       1   \n",
              "2   Living Environment  2016             9         74                       1   \n",
              "3  Common Core Algebra  2016             3          s                       s   \n",
              "4  Common Core Algebra  2017             2          s                       s   \n",
              "\n",
              "  Percent Scoring Below 65 Number Scoring 65 or Above  \\\n",
              "0                        s                          s   \n",
              "1                      6.3                         15   \n",
              "2                     11.1                          8   \n",
              "3                        s                          s   \n",
              "4                        s                          s   \n",
              "\n",
              "  Percent Scoring 65 or Above Number Scoring 80 or Above  \\\n",
              "0                           s                          s   \n",
              "1                        93.8                          7   \n",
              "2                        88.9                          2   \n",
              "3                           s                          s   \n",
              "4                           s                          s   \n",
              "\n",
              "  Percent Scoring 80 or Above Number Scoring CR Percent Scoring CR  \n",
              "0                           s                na                 na  \n",
              "1                        43.8                na                 na  \n",
              "2                        22.2                na                 na  \n",
              "3                           s                na                 na  \n",
              "4                           s                na                 na  "
            ],
            "text/html": [
              "\n",
              "  <div id=\"df-0f3235fe-c879-466b-8f03-e345aa7f48a4\" class=\"colab-df-container\">\n",
              "    <div>\n",
              "<style scoped>\n",
              "    .dataframe tbody tr th:only-of-type {\n",
              "        vertical-align: middle;\n",
              "    }\n",
              "\n",
              "    .dataframe tbody tr th {\n",
              "        vertical-align: top;\n",
              "    }\n",
              "\n",
              "    .dataframe thead th {\n",
              "        text-align: right;\n",
              "    }\n",
              "</style>\n",
              "<table border=\"1\" class=\"dataframe\">\n",
              "  <thead>\n",
              "    <tr style=\"text-align: right;\">\n",
              "      <th></th>\n",
              "      <th>School DBN</th>\n",
              "      <th>School Name</th>\n",
              "      <th>School Level</th>\n",
              "      <th>Regents Exam</th>\n",
              "      <th>Year</th>\n",
              "      <th>Total Tested</th>\n",
              "      <th>Mean Score</th>\n",
              "      <th>Number Scoring Below 65</th>\n",
              "      <th>Percent Scoring Below 65</th>\n",
              "      <th>Number Scoring 65 or Above</th>\n",
              "      <th>Percent Scoring 65 or Above</th>\n",
              "      <th>Number Scoring 80 or Above</th>\n",
              "      <th>Percent Scoring 80 or Above</th>\n",
              "      <th>Number Scoring CR</th>\n",
              "      <th>Percent Scoring CR</th>\n",
              "    </tr>\n",
              "  </thead>\n",
              "  <tbody>\n",
              "    <tr>\n",
              "      <th>0</th>\n",
              "      <td>01M034</td>\n",
              "      <td>P.S. 034 Franklin D. Roosevelt</td>\n",
              "      <td>K-8</td>\n",
              "      <td>Common Core Algebra</td>\n",
              "      <td>2017</td>\n",
              "      <td>4</td>\n",
              "      <td>s</td>\n",
              "      <td>s</td>\n",
              "      <td>s</td>\n",
              "      <td>s</td>\n",
              "      <td>s</td>\n",
              "      <td>s</td>\n",
              "      <td>s</td>\n",
              "      <td>na</td>\n",
              "      <td>na</td>\n",
              "    </tr>\n",
              "    <tr>\n",
              "      <th>1</th>\n",
              "      <td>01M034</td>\n",
              "      <td>P.S. 034 Franklin D. Roosevelt</td>\n",
              "      <td>K-8</td>\n",
              "      <td>Living Environment</td>\n",
              "      <td>2015</td>\n",
              "      <td>16</td>\n",
              "      <td>77.9</td>\n",
              "      <td>1</td>\n",
              "      <td>6.3</td>\n",
              "      <td>15</td>\n",
              "      <td>93.8</td>\n",
              "      <td>7</td>\n",
              "      <td>43.8</td>\n",
              "      <td>na</td>\n",
              "      <td>na</td>\n",
              "    </tr>\n",
              "    <tr>\n",
              "      <th>2</th>\n",
              "      <td>01M034</td>\n",
              "      <td>P.S. 034 Franklin D. Roosevelt</td>\n",
              "      <td>K-8</td>\n",
              "      <td>Living Environment</td>\n",
              "      <td>2016</td>\n",
              "      <td>9</td>\n",
              "      <td>74</td>\n",
              "      <td>1</td>\n",
              "      <td>11.1</td>\n",
              "      <td>8</td>\n",
              "      <td>88.9</td>\n",
              "      <td>2</td>\n",
              "      <td>22.2</td>\n",
              "      <td>na</td>\n",
              "      <td>na</td>\n",
              "    </tr>\n",
              "    <tr>\n",
              "      <th>3</th>\n",
              "      <td>01M140</td>\n",
              "      <td>P.S. 140 Nathan Straus</td>\n",
              "      <td>K-8</td>\n",
              "      <td>Common Core Algebra</td>\n",
              "      <td>2016</td>\n",
              "      <td>3</td>\n",
              "      <td>s</td>\n",
              "      <td>s</td>\n",
              "      <td>s</td>\n",
              "      <td>s</td>\n",
              "      <td>s</td>\n",
              "      <td>s</td>\n",
              "      <td>s</td>\n",
              "      <td>na</td>\n",
              "      <td>na</td>\n",
              "    </tr>\n",
              "    <tr>\n",
              "      <th>4</th>\n",
              "      <td>01M140</td>\n",
              "      <td>P.S. 140 Nathan Straus</td>\n",
              "      <td>K-8</td>\n",
              "      <td>Common Core Algebra</td>\n",
              "      <td>2017</td>\n",
              "      <td>2</td>\n",
              "      <td>s</td>\n",
              "      <td>s</td>\n",
              "      <td>s</td>\n",
              "      <td>s</td>\n",
              "      <td>s</td>\n",
              "      <td>s</td>\n",
              "      <td>s</td>\n",
              "      <td>na</td>\n",
              "      <td>na</td>\n",
              "    </tr>\n",
              "  </tbody>\n",
              "</table>\n",
              "</div>\n",
              "    <div class=\"colab-df-buttons\">\n",
              "\n",
              "  <div class=\"colab-df-container\">\n",
              "    <button class=\"colab-df-convert\" onclick=\"convertToInteractive('df-0f3235fe-c879-466b-8f03-e345aa7f48a4')\"\n",
              "            title=\"Convert this dataframe to an interactive table.\"\n",
              "            style=\"display:none;\">\n",
              "\n",
              "  <svg xmlns=\"http://www.w3.org/2000/svg\" height=\"24px\" viewBox=\"0 -960 960 960\">\n",
              "    <path d=\"M120-120v-720h720v720H120Zm60-500h600v-160H180v160Zm220 220h160v-160H400v160Zm0 220h160v-160H400v160ZM180-400h160v-160H180v160Zm440 0h160v-160H620v160ZM180-180h160v-160H180v160Zm440 0h160v-160H620v160Z\"/>\n",
              "  </svg>\n",
              "    </button>\n",
              "\n",
              "  <style>\n",
              "    .colab-df-container {\n",
              "      display:flex;\n",
              "      gap: 12px;\n",
              "    }\n",
              "\n",
              "    .colab-df-convert {\n",
              "      background-color: #E8F0FE;\n",
              "      border: none;\n",
              "      border-radius: 50%;\n",
              "      cursor: pointer;\n",
              "      display: none;\n",
              "      fill: #1967D2;\n",
              "      height: 32px;\n",
              "      padding: 0 0 0 0;\n",
              "      width: 32px;\n",
              "    }\n",
              "\n",
              "    .colab-df-convert:hover {\n",
              "      background-color: #E2EBFA;\n",
              "      box-shadow: 0px 1px 2px rgba(60, 64, 67, 0.3), 0px 1px 3px 1px rgba(60, 64, 67, 0.15);\n",
              "      fill: #174EA6;\n",
              "    }\n",
              "\n",
              "    .colab-df-buttons div {\n",
              "      margin-bottom: 4px;\n",
              "    }\n",
              "\n",
              "    [theme=dark] .colab-df-convert {\n",
              "      background-color: #3B4455;\n",
              "      fill: #D2E3FC;\n",
              "    }\n",
              "\n",
              "    [theme=dark] .colab-df-convert:hover {\n",
              "      background-color: #434B5C;\n",
              "      box-shadow: 0px 1px 3px 1px rgba(0, 0, 0, 0.15);\n",
              "      filter: drop-shadow(0px 1px 2px rgba(0, 0, 0, 0.3));\n",
              "      fill: #FFFFFF;\n",
              "    }\n",
              "  </style>\n",
              "\n",
              "    <script>\n",
              "      const buttonEl =\n",
              "        document.querySelector('#df-0f3235fe-c879-466b-8f03-e345aa7f48a4 button.colab-df-convert');\n",
              "      buttonEl.style.display =\n",
              "        google.colab.kernel.accessAllowed ? 'block' : 'none';\n",
              "\n",
              "      async function convertToInteractive(key) {\n",
              "        const element = document.querySelector('#df-0f3235fe-c879-466b-8f03-e345aa7f48a4');\n",
              "        const dataTable =\n",
              "          await google.colab.kernel.invokeFunction('convertToInteractive',\n",
              "                                                    [key], {});\n",
              "        if (!dataTable) return;\n",
              "\n",
              "        const docLinkHtml = 'Like what you see? Visit the ' +\n",
              "          '<a target=\"_blank\" href=https://colab.research.google.com/notebooks/data_table.ipynb>data table notebook</a>'\n",
              "          + ' to learn more about interactive tables.';\n",
              "        element.innerHTML = '';\n",
              "        dataTable['output_type'] = 'display_data';\n",
              "        await google.colab.output.renderOutput(dataTable, element);\n",
              "        const docLink = document.createElement('div');\n",
              "        docLink.innerHTML = docLinkHtml;\n",
              "        element.appendChild(docLink);\n",
              "      }\n",
              "    </script>\n",
              "  </div>\n",
              "\n",
              "\n",
              "<div id=\"df-ec86cc90-2892-4e3c-a04a-25bd97c48fcf\">\n",
              "  <button class=\"colab-df-quickchart\" onclick=\"quickchart('df-ec86cc90-2892-4e3c-a04a-25bd97c48fcf')\"\n",
              "            title=\"Suggest charts\"\n",
              "            style=\"display:none;\">\n",
              "\n",
              "<svg xmlns=\"http://www.w3.org/2000/svg\" height=\"24px\"viewBox=\"0 0 24 24\"\n",
              "     width=\"24px\">\n",
              "    <g>\n",
              "        <path d=\"M19 3H5c-1.1 0-2 .9-2 2v14c0 1.1.9 2 2 2h14c1.1 0 2-.9 2-2V5c0-1.1-.9-2-2-2zM9 17H7v-7h2v7zm4 0h-2V7h2v10zm4 0h-2v-4h2v4z\"/>\n",
              "    </g>\n",
              "</svg>\n",
              "  </button>\n",
              "\n",
              "<style>\n",
              "  .colab-df-quickchart {\n",
              "      --bg-color: #E8F0FE;\n",
              "      --fill-color: #1967D2;\n",
              "      --hover-bg-color: #E2EBFA;\n",
              "      --hover-fill-color: #174EA6;\n",
              "      --disabled-fill-color: #AAA;\n",
              "      --disabled-bg-color: #DDD;\n",
              "  }\n",
              "\n",
              "  [theme=dark] .colab-df-quickchart {\n",
              "      --bg-color: #3B4455;\n",
              "      --fill-color: #D2E3FC;\n",
              "      --hover-bg-color: #434B5C;\n",
              "      --hover-fill-color: #FFFFFF;\n",
              "      --disabled-bg-color: #3B4455;\n",
              "      --disabled-fill-color: #666;\n",
              "  }\n",
              "\n",
              "  .colab-df-quickchart {\n",
              "    background-color: var(--bg-color);\n",
              "    border: none;\n",
              "    border-radius: 50%;\n",
              "    cursor: pointer;\n",
              "    display: none;\n",
              "    fill: var(--fill-color);\n",
              "    height: 32px;\n",
              "    padding: 0;\n",
              "    width: 32px;\n",
              "  }\n",
              "\n",
              "  .colab-df-quickchart:hover {\n",
              "    background-color: var(--hover-bg-color);\n",
              "    box-shadow: 0 1px 2px rgba(60, 64, 67, 0.3), 0 1px 3px 1px rgba(60, 64, 67, 0.15);\n",
              "    fill: var(--button-hover-fill-color);\n",
              "  }\n",
              "\n",
              "  .colab-df-quickchart-complete:disabled,\n",
              "  .colab-df-quickchart-complete:disabled:hover {\n",
              "    background-color: var(--disabled-bg-color);\n",
              "    fill: var(--disabled-fill-color);\n",
              "    box-shadow: none;\n",
              "  }\n",
              "\n",
              "  .colab-df-spinner {\n",
              "    border: 2px solid var(--fill-color);\n",
              "    border-color: transparent;\n",
              "    border-bottom-color: var(--fill-color);\n",
              "    animation:\n",
              "      spin 1s steps(1) infinite;\n",
              "  }\n",
              "\n",
              "  @keyframes spin {\n",
              "    0% {\n",
              "      border-color: transparent;\n",
              "      border-bottom-color: var(--fill-color);\n",
              "      border-left-color: var(--fill-color);\n",
              "    }\n",
              "    20% {\n",
              "      border-color: transparent;\n",
              "      border-left-color: var(--fill-color);\n",
              "      border-top-color: var(--fill-color);\n",
              "    }\n",
              "    30% {\n",
              "      border-color: transparent;\n",
              "      border-left-color: var(--fill-color);\n",
              "      border-top-color: var(--fill-color);\n",
              "      border-right-color: var(--fill-color);\n",
              "    }\n",
              "    40% {\n",
              "      border-color: transparent;\n",
              "      border-right-color: var(--fill-color);\n",
              "      border-top-color: var(--fill-color);\n",
              "    }\n",
              "    60% {\n",
              "      border-color: transparent;\n",
              "      border-right-color: var(--fill-color);\n",
              "    }\n",
              "    80% {\n",
              "      border-color: transparent;\n",
              "      border-right-color: var(--fill-color);\n",
              "      border-bottom-color: var(--fill-color);\n",
              "    }\n",
              "    90% {\n",
              "      border-color: transparent;\n",
              "      border-bottom-color: var(--fill-color);\n",
              "    }\n",
              "  }\n",
              "</style>\n",
              "\n",
              "  <script>\n",
              "    async function quickchart(key) {\n",
              "      const quickchartButtonEl =\n",
              "        document.querySelector('#' + key + ' button');\n",
              "      quickchartButtonEl.disabled = true;  // To prevent multiple clicks.\n",
              "      quickchartButtonEl.classList.add('colab-df-spinner');\n",
              "      try {\n",
              "        const charts = await google.colab.kernel.invokeFunction(\n",
              "            'suggestCharts', [key], {});\n",
              "      } catch (error) {\n",
              "        console.error('Error during call to suggestCharts:', error);\n",
              "      }\n",
              "      quickchartButtonEl.classList.remove('colab-df-spinner');\n",
              "      quickchartButtonEl.classList.add('colab-df-quickchart-complete');\n",
              "    }\n",
              "    (() => {\n",
              "      let quickchartButtonEl =\n",
              "        document.querySelector('#df-ec86cc90-2892-4e3c-a04a-25bd97c48fcf button');\n",
              "      quickchartButtonEl.style.display =\n",
              "        google.colab.kernel.accessAllowed ? 'block' : 'none';\n",
              "    })();\n",
              "  </script>\n",
              "</div>\n",
              "\n",
              "    </div>\n",
              "  </div>\n"
            ],
            "application/vnd.google.colaboratory.intrinsic+json": {
              "type": "dataframe",
              "variable_name": "df"
            }
          },
          "metadata": {},
          "execution_count": 51
        }
      ]
    },
    {
      "cell_type": "code",
      "source": [
        "df.duplicated()"
      ],
      "metadata": {
        "colab": {
          "base_uri": "https://localhost:8080/",
          "height": 458
        },
        "id": "As-s88-5Od7J",
        "outputId": "a9c97a52-eb97-4eb7-c721-6f6172005411"
      },
      "execution_count": 6,
      "outputs": [
        {
          "output_type": "execute_result",
          "data": {
            "text/plain": [
              "0         False\n",
              "1         False\n",
              "2         False\n",
              "3         False\n",
              "4         False\n",
              "          ...  \n",
              "212326    False\n",
              "212327    False\n",
              "212328    False\n",
              "212329    False\n",
              "212330     True\n",
              "Length: 212331, dtype: bool"
            ],
            "text/html": [
              "<div>\n",
              "<style scoped>\n",
              "    .dataframe tbody tr th:only-of-type {\n",
              "        vertical-align: middle;\n",
              "    }\n",
              "\n",
              "    .dataframe tbody tr th {\n",
              "        vertical-align: top;\n",
              "    }\n",
              "\n",
              "    .dataframe thead th {\n",
              "        text-align: right;\n",
              "    }\n",
              "</style>\n",
              "<table border=\"1\" class=\"dataframe\">\n",
              "  <thead>\n",
              "    <tr style=\"text-align: right;\">\n",
              "      <th></th>\n",
              "      <th>0</th>\n",
              "    </tr>\n",
              "  </thead>\n",
              "  <tbody>\n",
              "    <tr>\n",
              "      <th>0</th>\n",
              "      <td>False</td>\n",
              "    </tr>\n",
              "    <tr>\n",
              "      <th>1</th>\n",
              "      <td>False</td>\n",
              "    </tr>\n",
              "    <tr>\n",
              "      <th>2</th>\n",
              "      <td>False</td>\n",
              "    </tr>\n",
              "    <tr>\n",
              "      <th>3</th>\n",
              "      <td>False</td>\n",
              "    </tr>\n",
              "    <tr>\n",
              "      <th>4</th>\n",
              "      <td>False</td>\n",
              "    </tr>\n",
              "    <tr>\n",
              "      <th>...</th>\n",
              "      <td>...</td>\n",
              "    </tr>\n",
              "    <tr>\n",
              "      <th>212326</th>\n",
              "      <td>False</td>\n",
              "    </tr>\n",
              "    <tr>\n",
              "      <th>212327</th>\n",
              "      <td>False</td>\n",
              "    </tr>\n",
              "    <tr>\n",
              "      <th>212328</th>\n",
              "      <td>False</td>\n",
              "    </tr>\n",
              "    <tr>\n",
              "      <th>212329</th>\n",
              "      <td>False</td>\n",
              "    </tr>\n",
              "    <tr>\n",
              "      <th>212330</th>\n",
              "      <td>True</td>\n",
              "    </tr>\n",
              "  </tbody>\n",
              "</table>\n",
              "<p>212331 rows × 1 columns</p>\n",
              "</div><br><label><b>dtype:</b> bool</label>"
            ]
          },
          "metadata": {},
          "execution_count": 6
        }
      ]
    },
    {
      "cell_type": "code",
      "source": [
        "df.info()"
      ],
      "metadata": {
        "colab": {
          "base_uri": "https://localhost:8080/"
        },
        "id": "uRnGUQDfPCze",
        "outputId": "d8fdbe6a-34bc-48d4-b1c3-15f4103f9096"
      },
      "execution_count": 9,
      "outputs": [
        {
          "output_type": "stream",
          "name": "stdout",
          "text": [
            "<class 'pandas.core.frame.DataFrame'>\n",
            "RangeIndex: 212331 entries, 0 to 212330\n",
            "Data columns (total 15 columns):\n",
            " #   Column                       Non-Null Count   Dtype \n",
            "---  ------                       --------------   ----- \n",
            " 0   School DBN                   212331 non-null  object\n",
            " 1   School Name                  212331 non-null  object\n",
            " 2   School Level                 212331 non-null  object\n",
            " 3   Regents Exam                 212321 non-null  object\n",
            " 4   Year                         212331 non-null  int64 \n",
            " 5   Total Tested                 212331 non-null  int64 \n",
            " 6   Mean Score                   212331 non-null  object\n",
            " 7   Number Scoring Below 65      212331 non-null  object\n",
            " 8   Percent Scoring Below 65     212331 non-null  object\n",
            " 9   Number Scoring 65 or Above   212331 non-null  object\n",
            " 10  Percent Scoring 65 or Above  212331 non-null  object\n",
            " 11  Number Scoring 80 or Above   212331 non-null  object\n",
            " 12  Percent Scoring 80 or Above  212331 non-null  object\n",
            " 13  Number Scoring CR            212331 non-null  object\n",
            " 14  Percent Scoring CR           212331 non-null  object\n",
            "dtypes: int64(2), object(13)\n",
            "memory usage: 24.3+ MB\n"
          ]
        }
      ]
    },
    {
      "cell_type": "code",
      "source": [
        "# Categorical columns\n",
        "cat_col = [col for col in df.columns if df[col].dtype == 'object']\n",
        "print('Categorical columns :',cat_col)\n",
        "# Numerical columns\n",
        "num_col = [col for col in df.columns if df[col].dtype != 'object']\n",
        "print('Numerical columns :',num_col)\n"
      ],
      "metadata": {
        "colab": {
          "base_uri": "https://localhost:8080/"
        },
        "id": "LmwTJr8lPM65",
        "outputId": "5bff0cbc-d123-4ff0-dc2b-2b123dfd8bfb"
      },
      "execution_count": 10,
      "outputs": [
        {
          "output_type": "stream",
          "name": "stdout",
          "text": [
            "Categorical columns : ['School DBN', 'School Name', 'School Level', 'Regents Exam', 'Mean Score', 'Number Scoring Below 65', 'Percent Scoring Below 65', 'Number Scoring 65 or Above', 'Percent Scoring 65 or Above', 'Number Scoring 80 or Above', 'Percent Scoring 80 or Above', 'Number Scoring CR', 'Percent Scoring CR']\n",
            "Numerical columns : ['Year', 'Total Tested']\n"
          ]
        }
      ]
    },
    {
      "cell_type": "code",
      "source": [
        "df[cat_col].nunique()\n",
        "\n"
      ],
      "metadata": {
        "colab": {
          "base_uri": "https://localhost:8080/",
          "height": 492
        },
        "id": "XSFwTKQwS40r",
        "outputId": "366cfdd2-d2e9-4b6c-ae8c-9276b062b830"
      },
      "execution_count": 11,
      "outputs": [
        {
          "output_type": "execute_result",
          "data": {
            "text/plain": [
              "School DBN                     1018\n",
              "School Name                    1012\n",
              "School Level                      6\n",
              "Regents Exam                     14\n",
              "Mean Score                      748\n",
              "Number Scoring Below 65         446\n",
              "Percent Scoring Below 65        992\n",
              "Number Scoring 65 or Above      945\n",
              "Percent Scoring 65 or Above     992\n",
              "Number Scoring 80 or Above      744\n",
              "Percent Scoring 80 or Above    1000\n",
              "Number Scoring CR               707\n",
              "Percent Scoring CR              999\n",
              "dtype: int64"
            ],
            "text/html": [
              "<div>\n",
              "<style scoped>\n",
              "    .dataframe tbody tr th:only-of-type {\n",
              "        vertical-align: middle;\n",
              "    }\n",
              "\n",
              "    .dataframe tbody tr th {\n",
              "        vertical-align: top;\n",
              "    }\n",
              "\n",
              "    .dataframe thead th {\n",
              "        text-align: right;\n",
              "    }\n",
              "</style>\n",
              "<table border=\"1\" class=\"dataframe\">\n",
              "  <thead>\n",
              "    <tr style=\"text-align: right;\">\n",
              "      <th></th>\n",
              "      <th>0</th>\n",
              "    </tr>\n",
              "  </thead>\n",
              "  <tbody>\n",
              "    <tr>\n",
              "      <th>School DBN</th>\n",
              "      <td>1018</td>\n",
              "    </tr>\n",
              "    <tr>\n",
              "      <th>School Name</th>\n",
              "      <td>1012</td>\n",
              "    </tr>\n",
              "    <tr>\n",
              "      <th>School Level</th>\n",
              "      <td>6</td>\n",
              "    </tr>\n",
              "    <tr>\n",
              "      <th>Regents Exam</th>\n",
              "      <td>14</td>\n",
              "    </tr>\n",
              "    <tr>\n",
              "      <th>Mean Score</th>\n",
              "      <td>748</td>\n",
              "    </tr>\n",
              "    <tr>\n",
              "      <th>Number Scoring Below 65</th>\n",
              "      <td>446</td>\n",
              "    </tr>\n",
              "    <tr>\n",
              "      <th>Percent Scoring Below 65</th>\n",
              "      <td>992</td>\n",
              "    </tr>\n",
              "    <tr>\n",
              "      <th>Number Scoring 65 or Above</th>\n",
              "      <td>945</td>\n",
              "    </tr>\n",
              "    <tr>\n",
              "      <th>Percent Scoring 65 or Above</th>\n",
              "      <td>992</td>\n",
              "    </tr>\n",
              "    <tr>\n",
              "      <th>Number Scoring 80 or Above</th>\n",
              "      <td>744</td>\n",
              "    </tr>\n",
              "    <tr>\n",
              "      <th>Percent Scoring 80 or Above</th>\n",
              "      <td>1000</td>\n",
              "    </tr>\n",
              "    <tr>\n",
              "      <th>Number Scoring CR</th>\n",
              "      <td>707</td>\n",
              "    </tr>\n",
              "    <tr>\n",
              "      <th>Percent Scoring CR</th>\n",
              "      <td>999</td>\n",
              "    </tr>\n",
              "  </tbody>\n",
              "</table>\n",
              "</div><br><label><b>dtype:</b> int64</label>"
            ]
          },
          "metadata": {},
          "execution_count": 11
        }
      ]
    },
    {
      "cell_type": "code",
      "source": [
        "#clean data: Remove rows where the \"Mean Score\" column has missing values to ensure accurate analysis\n",
        "\n",
        "df_cleaned = df.dropna(subset=[\"Mean Score\"])\n"
      ],
      "metadata": {
        "id": "5nxczmG9-ibD"
      },
      "execution_count": 13,
      "outputs": []
    },
    {
      "cell_type": "code",
      "source": [
        "# List schools with valid Average Score values\n",
        "valid_schools = df_cleaned.groupby(\"School Name\")[\"Mean Score\"].mean().dropna().sort_values(ascending=False)\n",
        "print(valid_schools.head(50))  # Display the top 10 schools with the highest average scores"
      ],
      "metadata": {
        "colab": {
          "base_uri": "https://localhost:8080/"
        },
        "id": "vuSe5NP1BDsP",
        "outputId": "9019e8e2-98da-4401-e043-dd1776cfa1d2"
      },
      "execution_count": 60,
      "outputs": [
        {
          "output_type": "stream",
          "name": "stdout",
          "text": [
            "School Name\n",
            "Stuyvesant High School                                91.697786\n",
            "J.H.S. 185 Edward Bleeker                             91.689130\n",
            "The Anderson School                                   91.355814\n",
            "The Christa McAuliffe School\\I.S. 187                 90.968182\n",
            "East Side Middle School                               90.412500\n",
            "J.H.S. 074 Nathaniel Hawthorne                        90.240580\n",
            "Bronx High School of Science                          90.189426\n",
            "New York City Lab Middle School for Collaborative     90.163889\n",
            "J.H.S. 167 Robert F. Wagner                           89.871111\n",
            "Townsend Harris High School                           89.696743\n",
            "I.S. 98 Bay Academy                                   89.412000\n",
            "J.H.S. 190 Russell Sage                               89.356364\n",
            "Vista Academy                                         89.066667\n",
            "I.S. 119 The Glendale                                 89.009459\n",
            "I.S. 025 Adrien Block                                 88.960656\n",
            "High School of American Studies at Lehman College     88.944860\n",
            "I.S. 250 The Robert F. Kennedy Community Middle Sc    88.866667\n",
            "Staten Island Technical High School                   88.862500\n",
            "Queens High School for the Sciences at York Colleg    88.786607\n",
            "The 30th Avenue School (G&T Citywide)                 88.662500\n",
            "I.S. 007 Elias Bernstein                              88.618333\n",
            "Baccalaureate School for Global Education             88.115166\n",
            "P.S. 122 Mamie Fay                                    87.693750\n",
            "I.S. 075 Frank D. Paulo                               87.691667\n",
            "M.S. 51 William Alexander                             87.684906\n",
            "J.H.S. 189 Daniel Carter Beard                        87.679070\n",
            "Beacon High School                                    87.676471\n",
            "I.S. 237                                              87.636782\n",
            "J.H.S. 234 Arthur W. Cunningham                       87.600000\n",
            "J.H.S. 216 George J. Ryan                             87.383673\n",
            "J.H.S. 259 William Mckinley                           87.333333\n",
            "Washington Heights Academy                            87.300000\n",
            "Mark Twain I.S. 239 for the Gifted & Talented         87.238272\n",
            "I.S. 034 Tottenville                                  87.152273\n",
            "High School for Mathematics, Science and Engineeri    87.026408\n",
            "Mott Hall III                                         86.980000\n",
            "P.S. 161 Pedro Albizu Campos                          86.800000\n",
            "P.S. 048 William G. Wilcox                            86.722222\n",
            "The Math & Science Exploratory School                 86.687931\n",
            "I.S. 5 - The Walter Crowley Intermediate School       86.643902\n",
            "P.S. 102 Bayview                                      86.558824\n",
            "J.H.S. 104 Simon Baruch                               86.521739\n",
            "M.S. 131                                              86.360870\n",
            "J.H.S. 201 The Dyker Heights                          86.315254\n",
            "P.S. 128 The Lorraine Tuzzo, Juniper Valley Elemen    86.290323\n",
            "P.S. 049 Dorothy Bonawit Kole                         86.175000\n",
            "I.S. 141 The Steinway                                 86.116071\n",
            "Jonas Bronck Academy                                  86.090000\n",
            "P.S. 164 Queens Valley                                86.075000\n",
            "Brooklyn School of Inquiry                            86.050000\n",
            "Name: Mean Score, dtype: float64\n"
          ]
        }
      ]
    },
    {
      "cell_type": "code",
      "source": [
        "# Select a school with valid scores\n",
        "selected_school = \"Bronx High School of Science\"\n",
        "school_mean_score = valid_schools[selected_school]\n"
      ],
      "metadata": {
        "id": "gFB2e7gdCQVD"
      },
      "execution_count": 45,
      "outputs": []
    },
    {
      "cell_type": "code",
      "source": [
        "# Compute the mean score for all other schools\n",
        "other_schools_mean_score = valid_schools.drop(selected_school).mean()\n",
        "\n",
        "print(f\"{selected_school} Mean Score: {school_mean_score:.2f}\")\n",
        "print(f\"Other Schools' Mean Score: {other_schools_mean_score:.2f}\")\n",
        "\n"
      ],
      "metadata": {
        "colab": {
          "base_uri": "https://localhost:8080/"
        },
        "id": "jkeCNT14_CA_",
        "outputId": "bbbf5c70-7433-431d-e1b4-6582b0675544"
      },
      "execution_count": 46,
      "outputs": [
        {
          "output_type": "stream",
          "name": "stdout",
          "text": [
            "Bronx High School of Science Mean Score: 90.19\n",
            "Other Schools' Mean Score: 68.66\n"
          ]
        }
      ]
    },
    {
      "cell_type": "code",
      "source": [
        "# Descriptive statistics\n",
        "overall_mean_score = valid_schools.mean()\n",
        "print(f\"Overall Mean Score: {overall_mean_score:.2f}\")\n"
      ],
      "metadata": {
        "colab": {
          "base_uri": "https://localhost:8080/"
        },
        "id": "TnboqUFVAHQ3",
        "outputId": "171c9e18-9391-4dce-e374-8c4c1e420f75"
      },
      "execution_count": 49,
      "outputs": [
        {
          "output_type": "stream",
          "name": "stdout",
          "text": [
            "Overall Mean Score: 68.68\n"
          ]
        }
      ]
    },
    {
      "cell_type": "code",
      "source": [
        "# Group by School Level and calculate average Mean Score for each level\n",
        "school_level_mean_score = df_cleaned.groupby(\"School Level\")[\"Mean Score\"].mean().sort_values(ascending=False)\n",
        "print(school_level_mean_score)"
      ],
      "metadata": {
        "colab": {
          "base_uri": "https://localhost:8080/"
        },
        "id": "yJdzXohrIdt2",
        "outputId": "f09f2c95-c6ce-44e9-e69b-6121ab6c6022"
      },
      "execution_count": 64,
      "outputs": [
        {
          "output_type": "stream",
          "name": "stdout",
          "text": [
            "School Level\n",
            "Junior High-Intermediate-Middle    76.907964\n",
            "K-8                                76.882459\n",
            "K-12 all grades                    71.184131\n",
            "Elementary                         67.800000\n",
            "Secondary School                   66.352460\n",
            "High school                        64.399895\n",
            "Name: Mean Score, dtype: float64\n"
          ]
        }
      ]
    },
    {
      "cell_type": "code",
      "source": [
        "# Visualization\n",
        "plt.figure(figsize=(10, 5))\n",
        "sns.histplot(valid_schools, bins=30, kde=True, color=\"blue\", label=\"All Schools with Valid Scores\")\n",
        "plt.axvline(school_mean_score, color=\"red\", linestyle=\"dashed\", linewidth=2, label=f\"{selected_school} Mean Score\")\n",
        "plt.axvline(other_schools_mean_score, color=\"black\", linestyle=\"dashed\", linewidth=2, label=\"Other Schools' Mean Score\")\n",
        "\n",
        "# Labels and title\n",
        "plt.legend()\n",
        "plt.title(\"Comparison of Bronx High School of Science vs. Other Schools\")\n",
        "plt.xlabel(\"Mean Score\")\n",
        "plt.ylabel(\"Frequency\")\n",
        "plt.show()"
      ],
      "metadata": {
        "colab": {
          "base_uri": "https://localhost:8080/",
          "height": 408
        },
        "id": "IhFY2RFWGEtJ",
        "outputId": "3625d791-b9b4-4744-a6e1-7ecb5eecdc1b"
      },
      "execution_count": 56,
      "outputs": [
        {
          "output_type": "display_data",
          "data": {
            "text/plain": [
              "<Figure size 1000x500 with 1 Axes>"
            ],
            "image/png": "[encoded data removed]"
          },
          "metadata": {}
        }
      ]
    },
    {
      "cell_type": "code",
      "source": [
        "# Visualization without palette\n",
        "plt.figure(figsize=(15, 8))\n",
        "sns.barplot(x=school_level_mean_score.index, y=school_level_mean_score.values)\n",
        "plt.title(\"Average Mean Score by School Level\")\n",
        "plt.xlabel(\"School Level\")\n",
        "plt.ylabel(\"Average Mean Score\")\n",
        "plt.show()\n"
      ],
      "metadata": {
        "colab": {
          "base_uri": "https://localhost:8080/",
          "height": 416
        },
        "id": "Pf9X3jntIr9c",
        "outputId": "76c1ac3c-09b7-4dcf-cbc0-69ca5960930d"
      },
      "execution_count": 107,
      "outputs": [
        {
          "output_type": "display_data",
          "data": {
            "text/plain": [
              "<Figure size 1500x800 with 1 Axes>"
            ],
            "image/png": "[encoded data removed]"
          },
          "metadata": {}
        }
      ]
    },
    {
      "cell_type": "code",
      "source": [
        "# Conclusion Statement for School Level Comparison\n",
        "conclusion = \"\"\"\n",
        "Based on the analysis of the mean scores across different school levels, it appears that high schools have the lowest average mean scores compared to middle and elementary schools.\n",
        "This trend suggests that the performance on the Regents Exam may be more challenging for high school students, possibly due to the complexity of the exam or other external factors.\n",
        "Further investigation into specific school-level programs, teaching methods, and student demographics could help explain these differences.\n",
        "\"\"\"\n",
        "\n",
        "print(conclusion)"
      ],
      "metadata": {
        "colab": {
          "base_uri": "https://localhost:8080/"
        },
        "id": "gdyOhmkuO5CF",
        "outputId": "bcff839b-b4fa-4725-fe84-e437951de228"
      },
      "execution_count": 79,
      "outputs": [
        {
          "output_type": "stream",
          "name": "stdout",
          "text": [
            "\n",
            "Based on the analysis of the mean scores across different school levels, it appears that high schools have the lowest average mean scores compared to middle and elementary schools.\n",
            "This trend suggests that the performance on the Regents Exam may be more challenging for high school students, possibly due to the complexity of the exam or other external factors.\n",
            "Further investigation into specific school-level programs, teaching methods, and student demographics could help explain these differences.\n",
            "\n"
          ]
        }
      ]
    }
  ]
}