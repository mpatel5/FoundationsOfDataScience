import pandas as pd
import matplotlib.pyplot as plt

# Load dataset
try:
    df = pd.read_csv("https://raw.githubusercontent.com/CunyLaguardiaDataAnalytics/datasets/master/2014-15_To_2016-17_School-_Level_NYC_Regents_Report_For_All_Variables.csv")
except Exception as e:
    print(f"Error loading dataset: {e}")
    exit()

# Normalize column names
df.columns = df.columns.str.strip().str.lower()

# Explore dataset
print("Column Names:", df.columns.tolist())  # Check column names
print(df.head())  # Sample data

# Define school and metric
school_name = "BROOKLYN TECHNICAL HIGH SCHOOL"
metric = "Mean Score".lower()  # Ensure matching case

# Verify column existence
if metric not in df.columns:
    raise ValueError(f"Column '{metric}' not found. Available columns: {df.columns.tolist()}")

# Convert 'Mean Score' to numeric
df[metric] = pd.to_numeric(df[metric], errors='coerce')

# Check if 'School Name' exists
school_name_col = "school name".lower()
if school_name_col not in df.columns:
    raise ValueError(f"Column '{school_name_col}' not found.")

# Filter data for selected school
school_data = df[df[school_name_col] == school_name].copy()

# Identify borough-based filtering column (if available)
if "school dbn" in df.columns:
    brooklyn_schools = df[df["school dbn"].astype(str).str.startswith("K")].copy()
else:
    raise ValueError("'School DBN' column not found. Adjust filtering criteria.")

# Calculate average scores
brooklyn_avg = brooklyn_schools[metric].mean()
school_avg = school_data[metric].mean()

print(f"{school_name} {metric}: {school_avg:.2f}")
print(f"Brooklyn Schools {metric}: {brooklyn_avg:.2f}")

# Visualization
categories = ["Brooklyn Schools", school_name]
values = [brooklyn_avg, school_avg]

plt.figure(figsize=(8, 5))
bars = plt.bar(categories, values, color=['blue', 'orange'])

# Add value labels
for bar in bars:
    yval = bar.get_height()
    plt.text(bar.get_x() + bar.get_width()/2, yval, f"{yval:.1f}", ha='center', va='bottom', fontsize=12, fontweight='bold')

plt.xlabel("Comparison Group")
plt.ylabel(metric)
plt.title(f"Comparison of {school_name} to Brooklyn Schools")

if not pd.isna(brooklyn_avg) and not pd.isna(school_avg):
    plt.ylim(min(values) - 5, max(values) + 5)
else:
    print("No valid data to plot.")

plt.show()

# Conclusion
comparison = "higher" if school_avg > brooklyn_avg else "lower"
print(f"Conclusion: The average Regents exam score for {school_name} was {school_avg:.2f}, which is {comparison} than the average score for all Brooklyn schools ({brooklyn_avg:.2f}).")
